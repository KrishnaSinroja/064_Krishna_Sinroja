{
  "nbformat": 4,
  "nbformat_minor": 0,
  "metadata": {
    "colab": {
      "name": "064_Lab6_Logistic_Regression.ipynb",
      "provenance": [],
      "collapsed_sections": [],
      "include_colab_link": true
    },
    "kernelspec": {
      "name": "python3",
      "display_name": "Python 3"
    },
    "language_info": {
      "name": "python"
    }
  },
  "cells": [
    {
      "cell_type": "markdown",
      "metadata": {
        "id": "view-in-github",
        "colab_type": "text"
      },
      "source": [
        "<a href=\"https://colab.research.google.com/github/KrishnaSinroja/064_Krishna_Sinroja/blob/master/Lab6/064_Lab6_Logistic_Regression.ipynb\" target=\"_parent\"><img src=\"https://colab.research.google.com/assets/colab-badge.svg\" alt=\"Open In Colab\"/></a>"
      ]
    },
    {
      "cell_type": "code",
      "metadata": {
        "colab": {
          "base_uri": "https://localhost:8080/",
          "height": 221
        },
        "id": "qHdnzTGh-F2X",
        "outputId": "c3b990dc-0082-4e14-b1d6-62f51ab7de49"
      },
      "source": [
        "\n",
        "from google.colab import drive\n",
        "drive.mount('/content/drive')\n",
        "\n",
        "#importing libraries\n",
        "\n",
        "\n",
        "import matplotlib.pyplot as plt\n",
        "%matplotlib inline\n",
        "import tensorflow as tf\n",
        "\n",
        "import numpy as np \n",
        "import pandas as pd \n",
        "import io\n",
        "import matplotlib.pyplot as plt\n",
        "\n",
        "# reading the csv file, del 2 columns from the file, checking first few rows of the file\n",
        "data = pd.read_csv('/content/drive/My Drive/Colab Notebooks/ML/Lab6/BuyComputer.csv')\n",
        "\n",
        "data.drop(columns=['User ID',],axis=1,inplace=True)\n",
        "data.head()"
      ],
      "execution_count": 21,
      "outputs": [
        {
          "output_type": "stream",
          "name": "stdout",
          "text": [
            "Drive already mounted at /content/drive; to attempt to forcibly remount, call drive.mount(\"/content/drive\", force_remount=True).\n"
          ]
        },
        {
          "output_type": "execute_result",
          "data": {
            "text/html": [
              "<div>\n",
              "<style scoped>\n",
              "    .dataframe tbody tr th:only-of-type {\n",
              "        vertical-align: middle;\n",
              "    }\n",
              "\n",
              "    .dataframe tbody tr th {\n",
              "        vertical-align: top;\n",
              "    }\n",
              "\n",
              "    .dataframe thead th {\n",
              "        text-align: right;\n",
              "    }\n",
              "</style>\n",
              "<table border=\"1\" class=\"dataframe\">\n",
              "  <thead>\n",
              "    <tr style=\"text-align: right;\">\n",
              "      <th></th>\n",
              "      <th>Age</th>\n",
              "      <th>EstimatedSalary</th>\n",
              "      <th>Purchased</th>\n",
              "    </tr>\n",
              "  </thead>\n",
              "  <tbody>\n",
              "    <tr>\n",
              "      <th>0</th>\n",
              "      <td>19</td>\n",
              "      <td>19000</td>\n",
              "      <td>0</td>\n",
              "    </tr>\n",
              "    <tr>\n",
              "      <th>1</th>\n",
              "      <td>35</td>\n",
              "      <td>20000</td>\n",
              "      <td>0</td>\n",
              "    </tr>\n",
              "    <tr>\n",
              "      <th>2</th>\n",
              "      <td>26</td>\n",
              "      <td>43000</td>\n",
              "      <td>0</td>\n",
              "    </tr>\n",
              "    <tr>\n",
              "      <th>3</th>\n",
              "      <td>27</td>\n",
              "      <td>57000</td>\n",
              "      <td>0</td>\n",
              "    </tr>\n",
              "    <tr>\n",
              "      <th>4</th>\n",
              "      <td>19</td>\n",
              "      <td>76000</td>\n",
              "      <td>0</td>\n",
              "    </tr>\n",
              "  </tbody>\n",
              "</table>\n",
              "</div>"
            ],
            "text/plain": [
              "   Age  EstimatedSalary  Purchased\n",
              "0   19            19000          0\n",
              "1   35            20000          0\n",
              "2   26            43000          0\n",
              "3   27            57000          0\n",
              "4   19            76000          0"
            ]
          },
          "metadata": {},
          "execution_count": 21
        }
      ]
    },
    {
      "cell_type": "code",
      "metadata": {
        "id": "VtX0gC4D_MjO"
      },
      "source": [
        "#Declare label as last column in the source file\n",
        "Y = data.iloc[:,2].values\n",
        "#print(Y)"
      ],
      "execution_count": 3,
      "outputs": []
    },
    {
      "cell_type": "code",
      "metadata": {
        "id": "V-UFQmtG_Xv9"
      },
      "source": [
        "#Declaring X as all columns excluding last\n",
        "X = data.iloc[:,:2].values\n",
        "# print(X)"
      ],
      "execution_count": 4,
      "outputs": []
    },
    {
      "cell_type": "code",
      "metadata": {
        "id": "zdjo8Mus_c7E"
      },
      "source": [
        "# Splitting data\n",
        "from sklearn.model_selection import train_test_split\n",
        "X_train, X_test, y_train, y_test = train_test_split(X, Y, test_size = 0.20, random_state = 64)"
      ],
      "execution_count": 5,
      "outputs": []
    },
    {
      "cell_type": "code",
      "metadata": {
        "id": "PBXUMxkI_vyc"
      },
      "source": [
        "# Sacaling data\n",
        "from sklearn.preprocessing import StandardScaler\n",
        "sc = StandardScaler()\n",
        "X_train = sc.fit_transform(X_train)\n",
        "X_test = sc.transform(X_test)"
      ],
      "execution_count": 6,
      "outputs": []
    },
    {
      "cell_type": "code",
      "metadata": {
        "colab": {
          "base_uri": "https://localhost:8080/"
        },
        "id": "hmW_QY4p_1Vz",
        "outputId": "6e1e20f6-1a19-412a-b822-e3a2646bae86"
      },
      "source": [
        "#Variabes to calculate sigmoid function\n",
        "y_pred = []\n",
        "len_x = len(X_train[0])\n",
        "w = []\n",
        "b = 0.2\n",
        "print(len_x)"
      ],
      "execution_count": 7,
      "outputs": [
        {
          "output_type": "stream",
          "name": "stdout",
          "text": [
            "2\n"
          ]
        }
      ]
    },
    {
      "cell_type": "code",
      "metadata": {
        "colab": {
          "base_uri": "https://localhost:8080/"
        },
        "id": "UkW8b27X_7bS",
        "outputId": "884b5363-94cd-40fc-e9cc-330290004482"
      },
      "source": [
        "entries = len(X_train[:,0])\n",
        "entries"
      ],
      "execution_count": 8,
      "outputs": [
        {
          "output_type": "execute_result",
          "data": {
            "text/plain": [
              "320"
            ]
          },
          "metadata": {},
          "execution_count": 8
        }
      ]
    },
    {
      "cell_type": "code",
      "metadata": {
        "colab": {
          "base_uri": "https://localhost:8080/"
        },
        "id": "X-yEF55S_-fp",
        "outputId": "45d41138-35d2-42df-9fbc-c6a277338acf"
      },
      "source": [
        "for weights in range(len_x):\n",
        "    w.append(0)\n",
        "w"
      ],
      "execution_count": 9,
      "outputs": [
        {
          "output_type": "execute_result",
          "data": {
            "text/plain": [
              "[0, 0]"
            ]
          },
          "metadata": {},
          "execution_count": 9
        }
      ]
    },
    {
      "cell_type": "code",
      "metadata": {
        "id": "OOKNDR19ADJ6"
      },
      "source": [
        "# Sigmoid function\n",
        "def sigmoid(z):\n",
        "  return 1/(1 + np.exp(-z))"
      ],
      "execution_count": 10,
      "outputs": []
    },
    {
      "cell_type": "code",
      "metadata": {
        "id": "eEdVffEJAFbm"
      },
      "source": [
        "def predict(inputs):\n",
        "    return sigmoid(np.dot(w,inputs)+b)"
      ],
      "execution_count": 11,
      "outputs": []
    },
    {
      "cell_type": "code",
      "metadata": {
        "id": "3J16ldftAJ1K"
      },
      "source": [
        "#Loss function\n",
        "def loss_func(y,a):\n",
        "    J = -(y*np.log(a) + (1-y)*np.log(1-a))\n",
        "    return J"
      ],
      "execution_count": 12,
      "outputs": []
    },
    {
      "cell_type": "code",
      "metadata": {
        "id": "8MUkkHT0AKiz"
      },
      "source": [
        "dw = []\n",
        "db = 0\n",
        "J = 0\n",
        "alpha = 0.1\n",
        "for x in range(len_x):\n",
        "    dw.append(0)"
      ],
      "execution_count": 13,
      "outputs": []
    },
    {
      "cell_type": "code",
      "metadata": {
        "id": "BMmP5_u6AMs5"
      },
      "source": [
        "#Repeating the process 3000 times\n",
        "J = 0\n",
        "for iterations in range(3000):\n",
        "    for i in range(entries):\n",
        "        localx = X_train[i]\n",
        "        a = predict(localx)\n",
        "        dz = a - y_train[i]\n",
        "        J += loss_func(y_train[i],a)\n",
        "        for j in range(len_x):\n",
        "            dw[j] = dw[j]+(localx[j]*dz)\n",
        "        db += dz\n",
        "    J = J/entries\n",
        "    db = db/entries\n",
        "    for x in range(len_x):\n",
        "        dw[x]=dw[x]/entries\n",
        "    for x in range(len_x):\n",
        "        w[x] = w[x]-(alpha*dw[x])\n",
        "    b = b-(alpha*db)         \n",
        "    J=0"
      ],
      "execution_count": 14,
      "outputs": []
    },
    {
      "cell_type": "code",
      "metadata": {
        "colab": {
          "base_uri": "https://localhost:8080/"
        },
        "id": "BRxZbIpZA7n1",
        "outputId": "ad863d49-d6bb-42ab-8514-4e46ed182764"
      },
      "source": [
        "#Print weight\n",
        "print(w)"
      ],
      "execution_count": 15,
      "outputs": [
        {
          "output_type": "stream",
          "name": "stdout",
          "text": [
            "[2.5465543333145044, 1.2036607263458405]\n"
          ]
        }
      ]
    },
    {
      "cell_type": "code",
      "metadata": {
        "colab": {
          "base_uri": "https://localhost:8080/"
        },
        "id": "X9iv5tuyA_xE",
        "outputId": "1c3183c1-e31f-421a-ccb5-484a63930c6e"
      },
      "source": [
        "#print bias\n",
        "print(b)"
      ],
      "execution_count": 16,
      "outputs": [
        {
          "output_type": "stream",
          "name": "stdout",
          "text": [
            "-1.1755266252546994\n"
          ]
        }
      ]
    },
    {
      "cell_type": "code",
      "metadata": {
        "id": "t_g46nQJBB9J"
      },
      "source": [
        "#predicting the label\n",
        "for x in range(len(y_test)):\n",
        "    y_pred.append(predict(X_test[x]))"
      ],
      "execution_count": 17,
      "outputs": []
    },
    {
      "cell_type": "code",
      "metadata": {
        "id": "wgLDVCT0BFHy"
      },
      "source": [
        "#print actual and predicted values in a table\n",
        "for x in range(len(y_pred)):\n",
        "    #print('Actual ',y_test[x],' Predicted ',y_pred[x])\n",
        "    if y_pred[x]>=0.5:\n",
        "        y_pred[x]=1\n",
        "    else:\n",
        "        y_pred[x]=0"
      ],
      "execution_count": 18,
      "outputs": []
    },
    {
      "cell_type": "code",
      "metadata": {
        "colab": {
          "base_uri": "https://localhost:8080/"
        },
        "id": "8xOYiKbkBGcR",
        "outputId": "ba3e6283-99a3-487f-e277-e2d8222a5a49"
      },
      "source": [
        "# Calculating accuracy of prediction\n",
        "prediction_count = 0\n",
        "for x in range(len(y_pred)):\n",
        "    if(y_pred[x]==y_test[x]):\n",
        "        prediction_count=prediction_count+1\n",
        "print('Accuracy:',(prediction_count/(len(y_pred)))*100)"
      ],
      "execution_count": 19,
      "outputs": [
        {
          "output_type": "stream",
          "name": "stdout",
          "text": [
            "Accuracy: 83.75\n"
          ]
        }
      ]
    },
    {
      "cell_type": "markdown",
      "metadata": {
        "id": "E_539JJTBSMx"
      },
      "source": [
        "**Using sklearn LogisticRegression model**"
      ]
    },
    {
      "cell_type": "code",
      "metadata": {
        "colab": {
          "base_uri": "https://localhost:8080/"
        },
        "id": "yrYea4_DBIQ3",
        "outputId": "bcac828a-f329-4125-9ef6-f07dfd25a018"
      },
      "source": [
        "# Fitting Logistic Regression to the Training set\n",
        "from sklearn.linear_model import LogisticRegression\n",
        "LR = LogisticRegression(random_state = 124)\n",
        "\n",
        "#Fit\n",
        "LR.fit(X_train, y_train)\n",
        "\n",
        "#predicting the test label with LR. Predict always takes X as input\n",
        "y_predLR=LR.predict(X_test)\n",
        "#y_predLR\n",
        "prediction_count = 0\n",
        "for x in range(len(y_pred)):\n",
        "    if(y_pred[x]==y_test[x]):\n",
        "        prediction_count=prediction_count+1\n",
        "print('Accuracy:',(prediction_count/(len(y_pred)))*100)"
      ],
      "execution_count": 20,
      "outputs": [
        {
          "output_type": "stream",
          "name": "stdout",
          "text": [
            "Accuracy: 83.75\n"
          ]
        }
      ]
    }
  ]
}